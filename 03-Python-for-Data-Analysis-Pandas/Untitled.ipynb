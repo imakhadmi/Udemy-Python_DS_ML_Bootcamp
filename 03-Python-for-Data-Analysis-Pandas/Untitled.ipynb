{
 "cells": [
  {
   "cell_type": "code",
   "execution_count": 86,
   "metadata": {},
   "outputs": [],
   "source": [
    "class Node:\n",
    "    def __init__(self, key=0, val=0):\n",
    "        self.key, self.val = key, val\n",
    "        self.prev = self.next = None\n",
    "\n",
    "class LRUCache:\n",
    "\n",
    "    def __init__(self, capacity: int):\n",
    "        self.capacity = capacity\n",
    "        self.cache = {}\n",
    "        self.left, self.right = Node(0,0), Node(0,0)\n",
    "        self.left.next, self.right.prev = self.right, self.left\n",
    "#         self.head = Node()\n",
    "#         self.tail = Node()\n",
    "#         self.head.next = self.tail\n",
    "#         self.tail.prev = self.head\n",
    "        \n",
    "    def remove(self, node):\n",
    "        prv, nxt = node.prev, node.next\n",
    "        prv.next, nxt.prev = nxt, prv\n",
    "#         node.prev.next = node.next\n",
    "#         node.next.prev = node.prev\n",
    "    \n",
    "    def insert(self, node):\n",
    "        prv, nxt = self.right.prev, self.right\n",
    "        prv.next = nxt.prev = node\n",
    "        node.next, node.prev = nxt, prv\n",
    "#         self.tail.prev.next = node\n",
    "#         self.tail.prev = node\n",
    "#         node.prev = self.tail.prev\n",
    "#         node.next = self.tail\n",
    "\n",
    "    def get(self, key: int) -> int:\n",
    "        if key in self.cache:\n",
    "            self.remove(self.cache[key])\n",
    "            self.insert(self.cache[key])\n",
    "            return self.cache[key].val\n",
    "        return -1\n",
    "\n",
    "    def put(self, key: int, val: int) -> None:\n",
    "        if key in self.cache:\n",
    "            self.remove(self.cache[key])\n",
    "        self.cache[key] = Node(key,val)\n",
    "        self.insert(self.cache[key])\n",
    "        \n",
    "        if len(self.cache) > self.capacity:\n",
    "            lru = self.left.next\n",
    "            self.remove(lru)\n",
    "            del self.cache[lru.key]"
   ]
  },
  {
   "cell_type": "code",
   "execution_count": 97,
   "metadata": {},
   "outputs": [],
   "source": [
    "obj = LRUCache(2)"
   ]
  },
  {
   "cell_type": "code",
   "execution_count": 98,
   "metadata": {},
   "outputs": [],
   "source": [
    "p1 = obj.put(1,1)"
   ]
  },
  {
   "cell_type": "code",
   "execution_count": 99,
   "metadata": {},
   "outputs": [],
   "source": [
    "p01 = obj.put(1,2)"
   ]
  },
  {
   "cell_type": "code",
   "execution_count": 100,
   "metadata": {},
   "outputs": [],
   "source": [
    "p2 = obj.put(2,2)"
   ]
  },
  {
   "cell_type": "code",
   "execution_count": 101,
   "metadata": {},
   "outputs": [],
   "source": [
    "p3 = obj.get(1)"
   ]
  },
  {
   "cell_type": "code",
   "execution_count": 102,
   "metadata": {},
   "outputs": [
    {
     "data": {
      "text/plain": [
       "2"
      ]
     },
     "execution_count": 102,
     "metadata": {},
     "output_type": "execute_result"
    }
   ],
   "source": [
    "p3"
   ]
  },
  {
   "cell_type": "code",
   "execution_count": 103,
   "metadata": {},
   "outputs": [],
   "source": [
    "p4 = obj.put(3,3)"
   ]
  },
  {
   "cell_type": "code",
   "execution_count": 104,
   "metadata": {},
   "outputs": [],
   "source": [
    "p5 = obj.get(2)"
   ]
  },
  {
   "cell_type": "code",
   "execution_count": 105,
   "metadata": {},
   "outputs": [
    {
     "data": {
      "text/plain": [
       "2"
      ]
     },
     "execution_count": 105,
     "metadata": {},
     "output_type": "execute_result"
    }
   ],
   "source": [
    "p5"
   ]
  },
  {
   "cell_type": "code",
   "execution_count": 76,
   "metadata": {},
   "outputs": [],
   "source": [
    "p6 = obj.get(1)"
   ]
  },
  {
   "cell_type": "code",
   "execution_count": 77,
   "metadata": {},
   "outputs": [
    {
     "data": {
      "text/plain": [
       "-1"
      ]
     },
     "execution_count": 77,
     "metadata": {},
     "output_type": "execute_result"
    }
   ],
   "source": [
    "p6"
   ]
  },
  {
   "cell_type": "code",
   "execution_count": 17,
   "metadata": {},
   "outputs": [],
   "source": [
    "p7 = obj.get(3)"
   ]
  },
  {
   "cell_type": "code",
   "execution_count": 18,
   "metadata": {},
   "outputs": [
    {
     "data": {
      "text/plain": [
       "3"
      ]
     },
     "execution_count": 18,
     "metadata": {},
     "output_type": "execute_result"
    }
   ],
   "source": [
    "p7"
   ]
  },
  {
   "cell_type": "code",
   "execution_count": 96,
   "metadata": {},
   "outputs": [],
   "source": [
    "class Node:\n",
    "    def __init__(self, key=0, val=0):\n",
    "        self.key = key\n",
    "        self.val = val\n",
    "        self.prev = None\n",
    "        self.next = None\n",
    "\n",
    "class LRUCache:\n",
    "\n",
    "    def __init__(self, capacity: int):\n",
    "        self.capacity = capacity\n",
    "        self.cache = {}\n",
    "        \n",
    "        self.head = Node(0,0)\n",
    "        self.tail = Node(0,0)\n",
    "        self.head.next = self.tail\n",
    "        self.tail.prev = self.head\n",
    "        \n",
    "    def remove(self, node):\n",
    "        node.prev.next = node.next\n",
    "        node.next.prev = node.prev\n",
    "    \n",
    "    def insert(self, node):\n",
    "        self.tail.prev.next = node\n",
    "        self.tail.prev = node\n",
    "        node.prev = self.tail.prev\n",
    "        node.next = self.tail\n",
    "\n",
    "    def get(self, key: int) -> int:\n",
    "        if key in self.cache:\n",
    "            self.remove(self.cache[key])\n",
    "            self.insert(self.cache[key])\n",
    "            return self.cache[key].val\n",
    "        return -1\n",
    "\n",
    "    def put(self, key: int, val: int) -> None:\n",
    "        if key in self.cache:\n",
    "            self.remove(self.cache[key])\n",
    "        self.cache[key] = Node(key,val)\n",
    "        self.insert(self.cache[key])\n",
    "        \n",
    "        if len(self.cache) > self.capacity:\n",
    "            lru = self.head.next\n",
    "            self.remove(lru)\n",
    "            del self.cache[lru.key]\n",
    "\n",
    "\n",
    "# Your LRUCache object will be instantiated and called as such:\n",
    "# obj = LRUCache(capacity)\n",
    "# param_1 = obj.get(key)\n",
    "# obj.put(key,value)"
   ]
  },
  {
   "cell_type": "code",
   "execution_count": null,
   "metadata": {},
   "outputs": [],
   "source": []
  }
 ],
 "metadata": {
  "kernelspec": {
   "display_name": "Python 3",
   "language": "python",
   "name": "python3"
  },
  "language_info": {
   "codemirror_mode": {
    "name": "ipython",
    "version": 3
   },
   "file_extension": ".py",
   "mimetype": "text/x-python",
   "name": "python",
   "nbconvert_exporter": "python",
   "pygments_lexer": "ipython3",
   "version": "3.8.3"
  }
 },
 "nbformat": 4,
 "nbformat_minor": 4
}
